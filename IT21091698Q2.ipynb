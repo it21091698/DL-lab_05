{
 "cells": [
  {
   "cell_type": "markdown",
   "metadata": {
    "id": "MyWFUEnRajzf"
   },
   "source": [
    "**Task 2 - Implementing LSTM for Time-Series Forecasting**\n",
    "\n",
    "\n",
    "***Read the following descriptions and instructions***\n",
    "\n",
    "Time-series forecasting is a crucial task in various fields, including finance, economics, and weather prediction. In this question, you'll work with Long Short-Term Memory (LSTM) networks, a type of recurrent neural network (RNN) that is particularly effective at learning from sequences of data. LSTMs are designed to capture long-term dependencies in time-series data, making them well-suited for predicting future values based on historical patterns.\n",
    "\n",
    "In this task, you will implement an LSTM model to forecast stock prices using historical data. Specifically, you'll use the closing prices of a stock to predict future prices, which is a common real-world application of time-series analysis in financial markets. This exercise will help you understand the principles of sequence modeling and how LSTMs can be applied to complex prediction tasks."
   ]
  },
  {
   "cell_type": "code",
   "execution_count": 1,
   "metadata": {
    "id": "vKdTBHBbadlb"
   },
   "outputs": [],
   "source": [
    "import numpy as np\n",
    "import pandas as pd\n",
    "import tensorflow as tf\n",
    "from tensorflow.keras.models import Sequential\n",
    "from tensorflow.keras.layers import LSTM, Dense, Dropout\n",
    "from sklearn.preprocessing import MinMaxScaler\n",
    "import matplotlib.pyplot as plt"
   ]
  },
  {
   "cell_type": "code",
   "execution_count": 2,
   "metadata": {
    "id": "O9Y2p8k0aq4d"
   },
   "outputs": [],
   "source": [
    "# 1. Load and Preprocess the Data\n",
    "def load_data(file_path):\n",
    "    df = pd.read_csv(file_path)\n",
    "    return df['Close'].values  # Use the 'Close' price for prediction"
   ]
  },
  {
   "cell_type": "code",
   "execution_count": 3,
   "metadata": {
    "id": "224EeqW6auK7"
   },
   "outputs": [],
   "source": [
    "# 2. Prepare the Dataset for LSTM\n",
    "def create_dataset(data, time_step=60):\n",
    "    X, y = [], []\n",
    "    for i in range(len(data) - time_step):\n",
    "        X.append(data[i:(i + time_step)])\n",
    "        y.append(data[i + time_step])\n",
    "    return np.array(X), np.array(y)"
   ]
  },
  {
   "cell_type": "code",
   "execution_count": 4,
   "metadata": {
    "id": "KaH4F3mvazKH"
   },
   "outputs": [],
   "source": [
    "# Load Data\n",
    "file_path = './GOOG.csv' # Path to the dataset in Colab or Jupyter home directory\n",
    "data = load_data(file_path)"
   ]
  },
  {
   "cell_type": "code",
   "execution_count": 5,
   "metadata": {
    "id": "3SdZRCc0a51M"
   },
   "outputs": [],
   "source": [
    "# Normalize the Data\n",
    "scaler = MinMaxScaler(feature_range=(0, 1))\n",
    "data = scaler.fit_transform(data.reshape(-1, 1)).reshape(-1)"
   ]
  },
  {
   "cell_type": "markdown",
   "metadata": {
    "id": "7Khqb1qD5IsY"
   },
   "source": [
    "**time_step = 60:** This variable defines the length of the input sequence, meaning we will use the past 60 days of stock prices to predict the next day's closing price. This value is chosen to capture enough historical information to make an accurate prediction. You can change and try"
   ]
  },
  {
   "cell_type": "code",
   "execution_count": 6,
   "metadata": {
    "id": "QmXBUdova9GP"
   },
   "outputs": [],
   "source": [
    "\n",
    "# Create the Dataset\n",
    "time_step = 60  # Using 60 days of data to predict the next day's price\n",
    "X, y = create_dataset(data, time_step)"
   ]
  },
  {
   "cell_type": "code",
   "execution_count": 7,
   "metadata": {
    "id": "QMA5jpNnbA9a"
   },
   "outputs": [],
   "source": [
    "# Reshape for LSTM input [samples, time steps, features]\n",
    "X = X.reshape(X.shape[0], X.shape[1], 1)"
   ]
  },
  {
   "cell_type": "code",
   "execution_count": 8,
   "metadata": {
    "id": "ErOC_sJdbEMe"
   },
   "outputs": [],
   "source": [
    "# Split the Data into Training and Testing Sets (80% train, 20% test)\n",
    "train_size = int(len(X) * 0.8)\n",
    "X_train, X_test = X[:train_size], X[train_size:]\n",
    "y_train, y_test = y[:train_size], y[train_size:]"
   ]
  },
  {
   "cell_type": "markdown",
   "metadata": {
    "id": "kOWw9rEX5awq"
   },
   "source": [
    "***Modify the number of units in the LSTM layers and consider adding more layers or changing the dropout rate to see how these adjustments affect the model's performance***\n",
    "\n",
    "Experiment with 'units'\n",
    "\n",
    "Experiment with dropout for regularization\n",
    "\n",
    "Add another LSTM layer\n",
    "\n"
   ]
  },
  {
   "cell_type": "code",
   "execution_count": 35,
   "metadata": {
    "colab": {
     "base_uri": "https://localhost:8080/"
    },
    "id": "58PjSxibbKWV",
    "outputId": "7941b5f8-49e0-43ad-ba89-03404ad5cd77"
   },
   "outputs": [],
   "source": [
    "# 3. Define the LSTM Model\n",
    "model = Sequential()\n",
    "\n",
    "# --- Students: Modify the number of LSTM layers and units to experiment with model complexity ---\n",
    "model.add(LSTM(units=50, return_sequences=True, input_shape=(time_step, 1)))  # <-- Experiment with 'units'\n",
    "model.add(Dropout(0.2))  # Experiment with dropout for regularization\n",
    "\n",
    "model.add(LSTM(units=50, return_sequences=False))  # <-- Add another LSTM layer\n",
    "model.add(Dropout(0.2))\n",
    "\n",
    "model.add(Dense(1))\n",
    "\n",
    "model.compile(optimizer='adam', loss='mean_absolute_error')"
   ]
  },
  {
   "cell_type": "markdown",
   "metadata": {
    "id": "GxH3rJwb6EIp"
   },
   "source": [
    "***Adjust the epochs and batch_size during the training phase to optimize the model’s learning process and its ability to generalize.***"
   ]
  },
  {
   "cell_type": "code",
   "execution_count": 48,
   "metadata": {
    "colab": {
     "base_uri": "https://localhost:8080/"
    },
    "id": "kAVwfLj7bTcL",
    "outputId": "622ae41a-56ea-42e2-9a7e-53e366e2f659"
   },
   "outputs": [
    {
     "name": "stdout",
     "output_type": "stream",
     "text": [
      "Epoch 1/20\n",
      "5/5 [==============================] - 0s 69ms/step - loss: 0.0733\n",
      "Epoch 2/20\n",
      "5/5 [==============================] - 0s 65ms/step - loss: 0.0700\n",
      "Epoch 3/20\n",
      "5/5 [==============================] - 0s 64ms/step - loss: 0.0649\n",
      "Epoch 4/20\n",
      "5/5 [==============================] - 0s 70ms/step - loss: 0.0668\n",
      "Epoch 5/20\n",
      "5/5 [==============================] - 0s 70ms/step - loss: 0.0700\n",
      "Epoch 6/20\n",
      "5/5 [==============================] - 0s 78ms/step - loss: 0.0652\n",
      "Epoch 7/20\n",
      "5/5 [==============================] - 0s 63ms/step - loss: 0.0721\n",
      "Epoch 8/20\n",
      "5/5 [==============================] - 0s 64ms/step - loss: 0.0685\n",
      "Epoch 9/20\n",
      "5/5 [==============================] - 0s 71ms/step - loss: 0.0677\n",
      "Epoch 10/20\n",
      "5/5 [==============================] - 0s 70ms/step - loss: 0.0642\n",
      "Epoch 11/20\n",
      "5/5 [==============================] - 0s 68ms/step - loss: 0.0713\n",
      "Epoch 12/20\n",
      "5/5 [==============================] - 0s 70ms/step - loss: 0.0652\n",
      "Epoch 13/20\n",
      "5/5 [==============================] - 0s 65ms/step - loss: 0.0688\n",
      "Epoch 14/20\n",
      "5/5 [==============================] - 0s 71ms/step - loss: 0.0662\n",
      "Epoch 15/20\n",
      "5/5 [==============================] - 0s 66ms/step - loss: 0.0671\n",
      "Epoch 16/20\n",
      "5/5 [==============================] - 0s 65ms/step - loss: 0.0672\n",
      "Epoch 17/20\n",
      "5/5 [==============================] - 0s 62ms/step - loss: 0.0679\n",
      "Epoch 18/20\n",
      "5/5 [==============================] - 0s 63ms/step - loss: 0.0741\n",
      "Epoch 19/20\n",
      "5/5 [==============================] - 0s 62ms/step - loss: 0.0677\n",
      "Epoch 20/20\n",
      "5/5 [==============================] - 0s 63ms/step - loss: 0.0631\n"
     ]
    },
    {
     "data": {
      "text/plain": [
       "<keras.callbacks.History at 0x218c9df1d90>"
      ]
     },
     "execution_count": 48,
     "metadata": {},
     "output_type": "execute_result"
    }
   ],
   "source": [
    "# 4. Train the Model\n",
    "\n",
    "model.fit(X_train, y_train, epochs=20, batch_size=32, verbose=1)  # <-- Experiment with 'epochs' and 'batch_size'"
   ]
  },
  {
   "cell_type": "code",
   "execution_count": 49,
   "metadata": {
    "colab": {
     "base_uri": "https://localhost:8080/"
    },
    "id": "n4BCFz26bYVn",
    "outputId": "5d4ae88f-3dbf-4c31-95c2-62572de0b0bd"
   },
   "outputs": [
    {
     "name": "stdout",
     "output_type": "stream",
     "text": [
      "2/2 [==============================] - 0s 15ms/step\n"
     ]
    }
   ],
   "source": [
    "# 5. Predict on the Test Data\n",
    "y_pred = model.predict(X_test)"
   ]
  },
  {
   "cell_type": "code",
   "execution_count": 50,
   "metadata": {
    "id": "m434kbHBbcob"
   },
   "outputs": [],
   "source": [
    "# Inverse transform to get the original scale\n",
    "y_pred = scaler.inverse_transform(y_pred.reshape(-1, 1)).reshape(-1)\n",
    "y_test = scaler.inverse_transform(y_test.reshape(-1, 1)).reshape(-1)"
   ]
  },
  {
   "cell_type": "markdown",
   "metadata": {
    "id": "gLyRbsMZ6Q_F"
   },
   "source": [
    "***Analyze the plot to evaluate the model performance. Consider modifying the model architecture or training parameters to improve accuracy***"
   ]
  },
  {
   "cell_type": "code",
   "execution_count": 51,
   "metadata": {
    "colab": {
     "base_uri": "https://localhost:8080/",
     "height": 529
    },
    "id": "1maQ_edkbfqc",
    "outputId": "298d5330-66c6-4a01-8b85-50a165ff4056"
   },
   "outputs": [
    {
     "data": {
      "image/png": "[encoded data removed]",
      "text/plain": [
       "<Figure size 1200x600 with 1 Axes>"
      ]
     },
     "metadata": {},
     "output_type": "display_data"
    }
   ],
   "source": [
    "# 6. Plot the Results\n",
    "plt.figure(figsize=(12, 6))\n",
    "plt.plot(y_test, label='Actual')\n",
    "plt.plot(y_pred, label='Predicted')\n",
    "plt.xlabel('Time Steps')\n",
    "plt.ylabel('Stock Price')\n",
    "plt.title('LSTM Stock Price Prediction')\n",
    "plt.legend()\n",
    "plt.show()\n",
    "\n"
   ]
  },
  {
   "cell_type": "markdown",
   "metadata": {
    "id": "PGvJoaLY6eWe"
   },
   "source": [
    "***Answer the following questions. (You can type answers in a text cell)***\n",
    "1.\tWhat is the purpose of normalizing the 'Close' prices before feeding them into the LSTM model?\n",
    "2.\tWhat is the purpose of the Dropout layer in the LSTM model?\n",
    "3.\tIn the plot showing actual vs predicted stock prices, what does it indicate if the predicted line closely follows the actual line?\n"
   ]
  },
  {
   "cell_type": "code",
   "execution_count": null,
   "metadata": {},
   "outputs": [],
   "source": []
  }
 ],
 "metadata": {
  "colab": {
   "provenance": []
  },
  "kernelspec": {
   "display_name": "Python 3 (ipykernel)",
   "language": "python",
   "name": "python3"
  },
  "language_info": {
   "codemirror_mode": {
    "name": "ipython",
    "version": 3
   },
   "file_extension": ".py",
   "mimetype": "text/x-python",
   "name": "python",
   "nbconvert_exporter": "python",
   "pygments_lexer": "ipython3",
   "version": "3.11.7"
  }
 },
 "nbformat": 4,
 "nbformat_minor": 4
}
